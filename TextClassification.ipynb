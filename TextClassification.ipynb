{
  "nbformat": 4,
  "nbformat_minor": 0,
  "metadata": {
    "colab": {
      "provenance": []
    },
    "kernelspec": {
      "name": "python3",
      "display_name": "Python 3"
    },
    "language_info": {
      "name": "python"
    }
  },
  "cells": [
    {
      "cell_type": "markdown",
      "source": [
        "\n",
        "Load a Pre-trained Model and Tokenizer"
      ],
      "metadata": {
        "id": "rHb5ZAU7J4u4"
      }
    },
    {
      "cell_type": "code",
      "source": [
        "from transformers import AutoTokenizer, AutoModelForSequenceClassification\n",
        "from transformers import pipeline\n",
        "\n",
        "model_name = \"distilbert-base-uncased-finetuned-sst-2-english\"\n",
        "\n",
        "tokenizer = AutoTokenizer.from_pretrained(model_name)\n",
        "model = AutoModelForSequenceClassification.from_pretrained(model_name)\n"
      ],
      "metadata": {
        "id": "8HD9fDvZJlC9"
      },
      "execution_count": 8,
      "outputs": []
    },
    {
      "cell_type": "markdown",
      "source": [
        "Set Up a Text Classification Pipeline"
      ],
      "metadata": {
        "id": "uLnt5XjiKDR7"
      }
    },
    {
      "cell_type": "code",
      "source": [
        "classifier = pipeline(\"text-classification\", model=model, tokenizer=tokenizer)\n"
      ],
      "metadata": {
        "id": "xp52soslIr1A"
      },
      "execution_count": 4,
      "outputs": []
    },
    {
      "cell_type": "markdown",
      "source": [
        "Example Texts"
      ],
      "metadata": {
        "id": "C5H-eZ7dKNEz"
      }
    },
    {
      "cell_type": "code",
      "source": [
        "texts = [\n",
        "    \"The weather forecast predicts rain for the next few days.\",\n",
        "    \"I had an amazing time at the beach today!\",\n",
        "    \"This experience was one of the worst I've ever had.\",\n",
        "    \"The customer service was outstanding; they really made my day.\",\n",
        "    \"The software update includes several security enhancements.\",\n",
        "    \"The product broke within a week. Very disappointed.\",\n",
        "    \"I am disappointed with the service; it was a complete waste of time.\",\n",
        "    \"This product exceeded my expectations. Highly recommended!\",\n",
        "    \"The book provides a detailed overview of the history of the region.\",\n",
        "    \"Researchers are exploring new treatments for common diseases.\",\n",
        "    \"I can't believe how poorly managed this event was.\",\n",
        "    \"I am absolutely thrilled with my new job; it's everything I hoped for.\",\n",
        "    \"The food was terrible, and the place was unclean.\",\n",
        "    \"The movie was fantastic! I would watch it again.\",\n",
        "    \"There will be a meeting scheduled for Monday at 10 AM.\"\n",
        "]\n",
        "\n",
        "\n"
      ],
      "metadata": {
        "id": "iKDKx96DI3as"
      },
      "execution_count": 9,
      "outputs": []
    },
    {
      "cell_type": "markdown",
      "source": [
        "Classify Text"
      ],
      "metadata": {
        "id": "NHibo3zEKVvS"
      }
    },
    {
      "cell_type": "code",
      "source": [
        "predictions = classifier(texts)\n",
        "for text, pred in zip(texts, predictions):\n",
        "    print(f\"Text: {text}\")\n",
        "    print(f\"Label: {pred['label']}, Score: {pred['score']:.4f}\\n\")"
      ],
      "metadata": {
        "colab": {
          "base_uri": "https://localhost:8080/"
        },
        "id": "hKNiQ-hOKYQy",
        "outputId": "d0d613e9-f60d-4673-ff52-ee9dfb7a57ff"
      },
      "execution_count": 10,
      "outputs": [
        {
          "output_type": "stream",
          "name": "stdout",
          "text": [
            "Text: The weather forecast predicts rain for the next few days.\n",
            "Label: NEGATIVE, Score: 0.9057\n",
            "\n",
            "Text: I had an amazing time at the beach today!\n",
            "Label: POSITIVE, Score: 0.9999\n",
            "\n",
            "Text: This experience was one of the worst I've ever had.\n",
            "Label: NEGATIVE, Score: 0.9998\n",
            "\n",
            "Text: The customer service was outstanding; they really made my day.\n",
            "Label: POSITIVE, Score: 0.9999\n",
            "\n",
            "Text: The software update includes several security enhancements.\n",
            "Label: POSITIVE, Score: 0.8484\n",
            "\n",
            "Text: The product broke within a week. Very disappointed.\n",
            "Label: NEGATIVE, Score: 0.9998\n",
            "\n",
            "Text: I am disappointed with the service; it was a complete waste of time.\n",
            "Label: NEGATIVE, Score: 0.9998\n",
            "\n",
            "Text: This product exceeded my expectations. Highly recommended!\n",
            "Label: POSITIVE, Score: 0.9998\n",
            "\n",
            "Text: The book provides a detailed overview of the history of the region.\n",
            "Label: POSITIVE, Score: 0.9998\n",
            "\n",
            "Text: Researchers are exploring new treatments for common diseases.\n",
            "Label: POSITIVE, Score: 0.9976\n",
            "\n",
            "Text: I can't believe how poorly managed this event was.\n",
            "Label: NEGATIVE, Score: 0.9998\n",
            "\n",
            "Text: I am absolutely thrilled with my new job; it's everything I hoped for.\n",
            "Label: POSITIVE, Score: 0.9999\n",
            "\n",
            "Text: The food was terrible, and the place was unclean.\n",
            "Label: NEGATIVE, Score: 0.9998\n",
            "\n",
            "Text: The movie was fantastic! I would watch it again.\n",
            "Label: POSITIVE, Score: 0.9999\n",
            "\n",
            "Text: There will be a meeting scheduled for Monday at 10 AM.\n",
            "Label: POSITIVE, Score: 0.9620\n",
            "\n"
          ]
        }
      ]
    }
  ]
}